{
 "cells": [
  {
   "cell_type": "markdown",
   "metadata": {},
   "source": [
    "# Network Traffic Forecasting with experimental _AutoTS_"
   ]
  },
  {
   "cell_type": "markdown",
   "metadata": {},
   "source": [
    "In telco, accurate forecast of KPIs (e.g. network traffic, utilizations, user experience, etc.) for communication networks ( 2G/3G/4G/5G/wired) can help predict network failures, allocate resource, or save energy. \n",
    "\n",
    "In this notebook, we demostrate a reference use case where we use the network traffic KPI(s) in the past to predict traffic KPI(s) in the future. We demostrate how to use experimental `AutoTS` in project [Chronos](https://github.com/intel-analytics/analytics-zoo/tree/master/pyzoo/zoo/chronos) to do time series forecasting in an automated and distributed way.\n",
    "\n",
    "For demonstration, we use the publicly available network traffic data repository maintained by the [WIDE project](http://mawi.wide.ad.jp/mawi/) and in particular, the network traffic traces aggregated every 2 hours (i.e. AverageRate in Mbps/Gbps and Total Bytes) in year 2018 and 2019 at the transit link of WIDE to the upstream ISP ([dataset link](http://mawi.wide.ad.jp/~agurim/dataset/)). "
   ]
  },
  {
   "cell_type": "markdown",
   "metadata": {},
   "source": [
    "## Helper functions"
   ]
  },
  {
   "cell_type": "markdown",
   "metadata": {},
   "source": [
    "This section defines some helper functions to be used in the following procedures. You can refer to it later when they're used."
   ]
  },
  {
   "cell_type": "code",
   "execution_count": 1,
   "metadata": {
    "ExecuteTime": {
     "end_time": "2020-04-05T09:42:29.752013Z",
     "start_time": "2020-04-05T09:42:29.746678Z"
    }
   },
   "outputs": [],
   "source": [
    "# plot the predicted values and actual values (for the test data)\n",
    "def plot_result(test_df, pred_df, dt_col=\"datetime\", value_col=\"AvgRate\", look_back=1):\n",
    "    # target column of dataframe is \"value\"\n",
    "    # past sequence length is 50\n",
    "    pred_value = pred_df[value_col][:-1].values\n",
    "    true_value = test_df[value_col].values[look_back:]\n",
    "    fig, axs = plt.subplots(figsize=(12, 5))\n",
    "\n",
    "    axs.plot(pred_df[dt_col][:-1], pred_value, color='red', label='predicted values')\n",
    "    axs.plot(test_df[dt_col][look_back:], true_value, color='blue', label='actual values')\n",
    "    axs.set_title('the predicted values and actual values (for the test data)')\n",
    "\n",
    "    plt.xlabel(dt_col)\n",
    "    plt.xticks(rotation=45)\n",
    "    plt.ylabel(value_col)\n",
    "    plt.legend(loc='upper left')\n",
    "    plt.show()"
   ]
  },
  {
   "cell_type": "markdown",
   "metadata": {},
   "source": [
    "## Download raw dataset and load into dataframe"
   ]
  },
  {
   "cell_type": "markdown",
   "metadata": {},
   "source": [
    "Now we download the dataset and load it into a pandas dataframe. Steps are as below. \n",
    "\n",
    "* First, run the script `get_data.sh` to download the raw data. It will download the monthly aggregated traffic data in year 2018 and 2019 into `data` folder. The raw data contains aggregated network traffic (average MBPs and total bytes) as well as other metrics. \n",
    "\n",
    "* Second, run `extract_data.sh` to extract relavant traffic KPI's from raw data, i.e. `AvgRate` for average use rate, and `total` for total bytes. The script will extract the KPI's with timestamps into `data/data.csv`.\n",
    "\n",
    "* Finally, use pandas to load `data/data.csv` into a dataframe as shown below"
   ]
  },
  {
   "cell_type": "code",
   "execution_count": 2,
   "metadata": {
    "ExecuteTime": {
     "end_time": "2020-04-05T09:42:30.934219Z",
     "start_time": "2020-04-05T09:42:30.324968Z"
    }
   },
   "outputs": [],
   "source": [
    "import os \n",
    "import numpy as np\n",
    "import pandas as pd\n",
    "import matplotlib.pyplot as plt\n",
    "%matplotlib inline"
   ]
  },
  {
   "cell_type": "code",
   "execution_count": 3,
   "metadata": {
    "ExecuteTime": {
     "end_time": "2020-04-05T09:42:30.948562Z",
     "start_time": "2020-04-05T09:42:30.935369Z"
    }
   },
   "outputs": [],
   "source": [
    "raw_df = pd.read_csv(\"data/data.csv\")"
   ]
  },
  {
   "cell_type": "markdown",
   "metadata": {},
   "source": [
    "Below are some example records of the data"
   ]
  },
  {
   "cell_type": "code",
   "execution_count": 4,
   "metadata": {
    "ExecuteTime": {
     "end_time": "2020-04-05T09:42:31.060336Z",
     "start_time": "2020-04-05T09:42:30.949794Z"
    }
   },
   "outputs": [
    {
     "data": {
      "text/html": [
       "<div>\n",
       "<style scoped>\n",
       "    .dataframe tbody tr th:only-of-type {\n",
       "        vertical-align: middle;\n",
       "    }\n",
       "\n",
       "    .dataframe tbody tr th {\n",
       "        vertical-align: top;\n",
       "    }\n",
       "\n",
       "    .dataframe thead th {\n",
       "        text-align: right;\n",
       "    }\n",
       "</style>\n",
       "<table border=\"1\" class=\"dataframe\">\n",
       "  <thead>\n",
       "    <tr style=\"text-align: right;\">\n",
       "      <th></th>\n",
       "      <th>StartTime</th>\n",
       "      <th>EndTime</th>\n",
       "      <th>AvgRate</th>\n",
       "      <th>total</th>\n",
       "    </tr>\n",
       "  </thead>\n",
       "  <tbody>\n",
       "    <tr>\n",
       "      <th>0</th>\n",
       "      <td>2018/01/01 00:00:00</td>\n",
       "      <td>2018/01/01 02:00:00</td>\n",
       "      <td>306.23Mbps</td>\n",
       "      <td>275605455598</td>\n",
       "    </tr>\n",
       "    <tr>\n",
       "      <th>1</th>\n",
       "      <td>2018/01/01 02:00:00</td>\n",
       "      <td>2018/01/01 04:00:00</td>\n",
       "      <td>285.03Mbps</td>\n",
       "      <td>256527692256</td>\n",
       "    </tr>\n",
       "    <tr>\n",
       "      <th>2</th>\n",
       "      <td>2018/01/01 04:00:00</td>\n",
       "      <td>2018/01/01 06:00:00</td>\n",
       "      <td>247.39Mbps</td>\n",
       "      <td>222652190823</td>\n",
       "    </tr>\n",
       "    <tr>\n",
       "      <th>3</th>\n",
       "      <td>2018/01/01 06:00:00</td>\n",
       "      <td>2018/01/01 08:00:00</td>\n",
       "      <td>211.55Mbps</td>\n",
       "      <td>190396029658</td>\n",
       "    </tr>\n",
       "    <tr>\n",
       "      <th>4</th>\n",
       "      <td>2018/01/01 08:00:00</td>\n",
       "      <td>2018/01/01 10:00:00</td>\n",
       "      <td>234.82Mbps</td>\n",
       "      <td>211340468977</td>\n",
       "    </tr>\n",
       "  </tbody>\n",
       "</table>\n",
       "</div>"
      ],
      "text/plain": [
       "             StartTime              EndTime     AvgRate         total\n",
       "0  2018/01/01 00:00:00  2018/01/01 02:00:00  306.23Mbps  275605455598\n",
       "1  2018/01/01 02:00:00  2018/01/01 04:00:00  285.03Mbps  256527692256\n",
       "2  2018/01/01 04:00:00  2018/01/01 06:00:00  247.39Mbps  222652190823\n",
       "3  2018/01/01 06:00:00  2018/01/01 08:00:00  211.55Mbps  190396029658\n",
       "4  2018/01/01 08:00:00  2018/01/01 10:00:00  234.82Mbps  211340468977"
      ]
     },
     "execution_count": 4,
     "metadata": {},
     "output_type": "execute_result"
    }
   ],
   "source": [
    "raw_df.head()"
   ]
  },
  {
   "cell_type": "markdown",
   "metadata": {},
   "source": [
    "## Data pre-processing"
   ]
  },
  {
   "cell_type": "markdown",
   "metadata": {},
   "source": [
    "Now we need to do data cleaning and preprocessing on the raw data. Note that this part could vary for different dataset. \n",
    "\n",
    "For the network traffic data we're using, the processing contains 2 parts:\n",
    "1. Convert string datetime to TimeStamp\n",
    "2. Unify the measurement scale for `AvgRate` value - some uses Mbps, some uses Gbps "
   ]
  },
  {
   "cell_type": "code",
   "execution_count": 5,
   "metadata": {
    "ExecuteTime": {
     "end_time": "2020-04-05T09:42:31.439100Z",
     "start_time": "2020-04-05T09:42:31.433819Z"
    }
   },
   "outputs": [],
   "source": [
    "df = pd.DataFrame(pd.to_datetime(raw_df.StartTime))\n",
    "\n",
    "# we can find 'AvgRate' is of two scales: 'Mbps' and 'Gbps'\n",
    "raw_df.AvgRate.str[-4:].unique() \n",
    "\n",
    "# Unify AvgRate value\n",
    "df['AvgRate'] = raw_df.AvgRate.apply(lambda x:float(x[:-4]) if x.endswith(\"Mbps\") else float(x[:-4])*1000)\n",
    "\n",
    "df[\"total\"] = raw_df[\"total\"]"
   ]
  },
  {
   "cell_type": "code",
   "execution_count": 6,
   "metadata": {
    "ExecuteTime": {
     "end_time": "2020-04-05T09:42:31.619691Z",
     "start_time": "2020-04-05T09:42:31.614336Z"
    }
   },
   "outputs": [
    {
     "data": {
      "text/html": [
       "<div>\n",
       "<style scoped>\n",
       "    .dataframe tbody tr th:only-of-type {\n",
       "        vertical-align: middle;\n",
       "    }\n",
       "\n",
       "    .dataframe tbody tr th {\n",
       "        vertical-align: top;\n",
       "    }\n",
       "\n",
       "    .dataframe thead th {\n",
       "        text-align: right;\n",
       "    }\n",
       "</style>\n",
       "<table border=\"1\" class=\"dataframe\">\n",
       "  <thead>\n",
       "    <tr style=\"text-align: right;\">\n",
       "      <th></th>\n",
       "      <th>StartTime</th>\n",
       "      <th>AvgRate</th>\n",
       "      <th>total</th>\n",
       "    </tr>\n",
       "  </thead>\n",
       "  <tbody>\n",
       "    <tr>\n",
       "      <th>0</th>\n",
       "      <td>2018-01-01 00:00:00</td>\n",
       "      <td>306.23</td>\n",
       "      <td>275605455598</td>\n",
       "    </tr>\n",
       "    <tr>\n",
       "      <th>1</th>\n",
       "      <td>2018-01-01 02:00:00</td>\n",
       "      <td>285.03</td>\n",
       "      <td>256527692256</td>\n",
       "    </tr>\n",
       "    <tr>\n",
       "      <th>2</th>\n",
       "      <td>2018-01-01 04:00:00</td>\n",
       "      <td>247.39</td>\n",
       "      <td>222652190823</td>\n",
       "    </tr>\n",
       "    <tr>\n",
       "      <th>3</th>\n",
       "      <td>2018-01-01 06:00:00</td>\n",
       "      <td>211.55</td>\n",
       "      <td>190396029658</td>\n",
       "    </tr>\n",
       "    <tr>\n",
       "      <th>4</th>\n",
       "      <td>2018-01-01 08:00:00</td>\n",
       "      <td>234.82</td>\n",
       "      <td>211340468977</td>\n",
       "    </tr>\n",
       "  </tbody>\n",
       "</table>\n",
       "</div>"
      ],
      "text/plain": [
       "            StartTime  AvgRate         total\n",
       "0 2018-01-01 00:00:00   306.23  275605455598\n",
       "1 2018-01-01 02:00:00   285.03  256527692256\n",
       "2 2018-01-01 04:00:00   247.39  222652190823\n",
       "3 2018-01-01 06:00:00   211.55  190396029658\n",
       "4 2018-01-01 08:00:00   234.82  211340468977"
      ]
     },
     "execution_count": 6,
     "metadata": {},
     "output_type": "execute_result"
    }
   ],
   "source": [
    "df.head()"
   ]
  },
  {
   "cell_type": "code",
   "execution_count": 7,
   "metadata": {
    "ExecuteTime": {
     "end_time": "2020-04-05T09:42:33.292662Z",
     "start_time": "2020-04-05T09:42:33.280539Z"
    }
   },
   "outputs": [
    {
     "data": {
      "text/html": [
       "<div>\n",
       "<style scoped>\n",
       "    .dataframe tbody tr th:only-of-type {\n",
       "        vertical-align: middle;\n",
       "    }\n",
       "\n",
       "    .dataframe tbody tr th {\n",
       "        vertical-align: top;\n",
       "    }\n",
       "\n",
       "    .dataframe thead th {\n",
       "        text-align: right;\n",
       "    }\n",
       "</style>\n",
       "<table border=\"1\" class=\"dataframe\">\n",
       "  <thead>\n",
       "    <tr style=\"text-align: right;\">\n",
       "      <th></th>\n",
       "      <th>AvgRate</th>\n",
       "      <th>total</th>\n",
       "    </tr>\n",
       "  </thead>\n",
       "  <tbody>\n",
       "    <tr>\n",
       "      <th>count</th>\n",
       "      <td>8760.000000</td>\n",
       "      <td>8.760000e+03</td>\n",
       "    </tr>\n",
       "    <tr>\n",
       "      <th>mean</th>\n",
       "      <td>454.070611</td>\n",
       "      <td>4.085273e+11</td>\n",
       "    </tr>\n",
       "    <tr>\n",
       "      <th>std</th>\n",
       "      <td>238.371572</td>\n",
       "      <td>2.146467e+11</td>\n",
       "    </tr>\n",
       "    <tr>\n",
       "      <th>min</th>\n",
       "      <td>86.490000</td>\n",
       "      <td>8.641890e+09</td>\n",
       "    </tr>\n",
       "    <tr>\n",
       "      <th>25%</th>\n",
       "      <td>273.715000</td>\n",
       "      <td>2.460014e+11</td>\n",
       "    </tr>\n",
       "    <tr>\n",
       "      <th>50%</th>\n",
       "      <td>410.670000</td>\n",
       "      <td>3.694583e+11</td>\n",
       "    </tr>\n",
       "    <tr>\n",
       "      <th>75%</th>\n",
       "      <td>558.200000</td>\n",
       "      <td>5.023054e+11</td>\n",
       "    </tr>\n",
       "    <tr>\n",
       "      <th>max</th>\n",
       "      <td>1760.000000</td>\n",
       "      <td>1.585238e+12</td>\n",
       "    </tr>\n",
       "  </tbody>\n",
       "</table>\n",
       "</div>"
      ],
      "text/plain": [
       "           AvgRate         total\n",
       "count  8760.000000  8.760000e+03\n",
       "mean    454.070611  4.085273e+11\n",
       "std     238.371572  2.146467e+11\n",
       "min      86.490000  8.641890e+09\n",
       "25%     273.715000  2.460014e+11\n",
       "50%     410.670000  3.694583e+11\n",
       "75%     558.200000  5.023054e+11\n",
       "max    1760.000000  1.585238e+12"
      ]
     },
     "execution_count": 7,
     "metadata": {},
     "output_type": "execute_result"
    }
   ],
   "source": [
    "df.describe()"
   ]
  },
  {
   "cell_type": "markdown",
   "metadata": {},
   "source": [
    "Plot the data to see how the KPI's look like"
   ]
  },
  {
   "cell_type": "code",
   "execution_count": 8,
   "metadata": {
    "ExecuteTime": {
     "end_time": "2020-04-05T09:42:33.826495Z",
     "start_time": "2020-04-05T09:42:33.641397Z"
    },
    "scrolled": true
   },
   "outputs": [
    {
     "data": {
      "image/png": "[encoded data removed]",
      "text/plain": [
       "<Figure size 864x360 with 1 Axes>"
      ]
     },
     "metadata": {
      "needs_background": "light"
     },
     "output_type": "display_data"
    }
   ],
   "source": [
    "ax = df.plot(y='AvgRate',figsize=(12,5), title=\"AvgRate of network traffic data\")"
   ]
  },
  {
   "cell_type": "code",
   "execution_count": 9,
   "metadata": {
    "ExecuteTime": {
     "end_time": "2020-04-05T09:42:33.971770Z",
     "start_time": "2020-04-05T09:42:33.827516Z"
    },
    "scrolled": true
   },
   "outputs": [
    {
     "data": {
      "image/png": "[encoded data removed]",
      "text/plain": [
       "<Figure size 864x360 with 1 Axes>"
      ]
     },
     "metadata": {
      "needs_background": "light"
     },
     "output_type": "display_data"
    }
   ],
   "source": [
    "ax = df.plot(y='total',figsize=(12,5), title=\"total bytes of network traffic data\")"
   ]
  },
  {
   "cell_type": "markdown",
   "metadata": {},
   "source": [
    "## Time series forecasting with _AutoTS_"
   ]
  },
  {
   "cell_type": "markdown",
   "metadata": {},
   "source": [
    "_AutoTS_ provides AutoML support for building end-to-end time series analysis pipelines (including automatic feature generation, model selection and hyperparameter tuning).\n",
    "\n",
    "The general workflow using automated training contains below two steps. \n",
    "   1. create a ```AutoTSTrainer``` to train a ```TSPipeline```, save it to file to use later or elsewhere if you wish.\n",
    "   2. use ```TSPipeline``` to do prediction, evaluation, and incremental fitting as well. \n"
   ]
  },
  {
   "cell_type": "markdown",
   "metadata": {},
   "source": [
    "First, you need to initialize RayOnSpark before using auto training (i.e. ```AutoTSTrainer```), and stop it after training finished. (Note RayOnSpark is not needed if you just use `TSPipeline` for inference, evaluation or incremental training.)\n"
   ]
  },
  {
   "cell_type": "code",
   "execution_count": 10,
   "metadata": {
    "ExecuteTime": {
     "end_time": "2020-04-05T09:42:51.917822Z",
     "start_time": "2020-04-05T09:42:34.581511Z"
    },
    "scrolled": false
   },
   "outputs": [
    {
     "name": "stdout",
     "output_type": "stream",
     "text": [
      "Initializing orca context\n",
      "Current pyspark location is : /home/yuyin/spark-2.4.3-bin-hadoop2.7/python/lib/pyspark.zip/pyspark/__init__.py\n",
      "Start to getOrCreate SparkContext\n",
      "pyspark_submit_args is:  --driver-class-path /home/yuyin/analytics-zoo/zoo/target/analytics-zoo-bigdl_0.12.2-spark_2.4.3-0.11.0-SNAPSHOT-dist/lib/analytics-zoo-bigdl_0.12.2-spark_2.4.3-0.11.0-SNAPSHOT-jar-with-dependencies.jar pyspark-shell \n",
      "Successfully got a SparkContext\n"
     ]
    },
    {
     "name": "stderr",
     "output_type": "stream",
     "text": [
      "2021-07-01 16:44:34,112\tINFO services.py:1174 -- View the Ray dashboard at \u001b[1m\u001b[32mhttp://10.239.44.145:8266\u001b[39m\u001b[22m\n"
     ]
    },
    {
     "name": "stdout",
     "output_type": "stream",
     "text": [
      "{'node_ip_address': '10.239.44.145', 'raylet_ip_address': '10.239.44.145', 'redis_address': '10.239.44.145:14245', 'object_store_address': '/tmp/ray/session_2021-07-01_16-44-33_146265_91759/sockets/plasma_store', 'raylet_socket_name': '/tmp/ray/session_2021-07-01_16-44-33_146265_91759/sockets/raylet', 'webui_url': '10.239.44.145:8266', 'session_dir': '/tmp/ray/session_2021-07-01_16-44-33_146265_91759', 'metrics_export_port': 58809, 'node_id': '7b77b88b40049585219c27b494884c851553b097984cc64365d42a5c'}\n"
     ]
    },
    {
     "data": {
      "text/html": [
       "\n",
       "        <div>\n",
       "            <p><b>SparkContext</b></p>\n",
       "\n",
       "            <p><a href=\"http://10.239.44.145:4041\">Spark UI</a></p>\n",
       "\n",
       "            <dl>\n",
       "              <dt>Version</dt>\n",
       "                <dd><code>v2.4.3</code></dd>\n",
       "              <dt>Master</dt>\n",
       "                <dd><code>local[4]</code></dd>\n",
       "              <dt>AppName</dt>\n",
       "                <dd><code>pyspark-shell</code></dd>\n",
       "            </dl>\n",
       "        </div>\n",
       "        "
      ],
      "text/plain": [
       "<SparkContext master=local[4] appName=pyspark-shell>"
      ]
     },
     "execution_count": 10,
     "metadata": {},
     "output_type": "execute_result"
    }
   ],
   "source": [
    "from zoo.orca import init_orca_context\n",
    "init_orca_context(cores=4, init_ray_on_spark=True)"
   ]
  },
  {
   "cell_type": "markdown",
   "metadata": {},
   "source": [
    "Then we initialize a `AutoTSTrainer`."
   ]
  },
  {
   "cell_type": "code",
   "execution_count": 11,
   "metadata": {},
   "outputs": [
    {
     "data": {
      "text/plain": [
       "\"\\nimport zoo.orca.automl.hp as hp\\nsearch_space = {\\n            'hidden_dim': hp.grid_search([16, 32, 64, 128]),\\n            'layer_num': hp.randint(1, 10),\\n            'lr': hp.uniform(0.001, 0.01),\\n            'dropout': hp.uniform(0.1, 0.3)\\n            }\\n\""
      ]
     },
     "execution_count": 11,
     "metadata": {},
     "output_type": "execute_result"
    }
   ],
   "source": [
    "'''\n",
    "import zoo.orca.automl.hp as hp\n",
    "search_space = {\n",
    "            'hidden_dim': hp.grid_search([16, 32, 64, 128]),\n",
    "            'layer_num': hp.randint(1, 10),\n",
    "            'lr': hp.uniform(0.001, 0.01),\n",
    "            'dropout': hp.uniform(0.1, 0.3)\n",
    "            }\n",
    "'''"
   ]
  },
  {
   "cell_type": "code",
   "execution_count": 12,
   "metadata": {
    "ExecuteTime": {
     "end_time": "2020-04-05T09:42:53.144776Z",
     "start_time": "2020-04-05T09:42:51.919760Z"
    }
   },
   "outputs": [
    {
     "data": {
      "text/plain": [
       "'\\nfrom zoo.chronos.autots.experimental import AutoTSTrainer\\nimport torch\\nauto_trainer = AutoTSTrainer(model=\\'lstm\\',\\n                             search_space=search_space,\\n                             past_seq_len=hp.randint(36, 85),\\n                             future_seq_len=1,\\n                             input_feature_num=1,\\n                             output_target_num=1,\\n                             metric=\"mse\",\\n                             loss=torch.nn.MSELoss(),\\n                             logs_dir=\"./tmp/auto_trainer\",\\n                             cpus_per_trial=2,\\n                             name=\"auto_trainer\")\\n'"
      ]
     },
     "execution_count": 12,
     "metadata": {},
     "output_type": "execute_result"
    }
   ],
   "source": [
    "'''\n",
    "from zoo.chronos.autots.experimental import AutoTSTrainer\n",
    "import torch\n",
    "auto_trainer = AutoTSTrainer(model='lstm',\n",
    "                             search_space=search_space,\n",
    "                             past_seq_len=hp.randint(36, 85),\n",
    "                             future_seq_len=1,\n",
    "                             input_feature_num=1,\n",
    "                             output_target_num=1,\n",
    "                             metric=\"mse\",\n",
    "                             loss=torch.nn.MSELoss(),\n",
    "                             logs_dir=\"./tmp/auto_trainer\",\n",
    "                             cpus_per_trial=2,\n",
    "                             name=\"auto_trainer\")\n",
    "'''                             "
   ]
  },
  {
   "cell_type": "code",
   "execution_count": 13,
   "metadata": {},
   "outputs": [],
   "source": [
    "import zoo.orca.automl.hp as hp\n",
    "search_space = {\n",
    "            'hidden_units': hp.grid_search([32, 64]),\n",
    "            'levels': hp.randint(4, 6),\n",
    "            'kernel_size': hp.randint(3, 5),\n",
    "            'dropout': hp.uniform(0.1, 0.3),\n",
    "            'lr': hp.loguniform(0.001, 0.01)\n",
    "        }"
   ]
  },
  {
   "cell_type": "code",
   "execution_count": 14,
   "metadata": {},
   "outputs": [],
   "source": [
    "from zoo.chronos.autots.experimental import AutoTSTrainer\n",
    "import torch\n",
    "auto_trainer = AutoTSTrainer(model='tcn',\n",
    "                             search_space=search_space,\n",
    "                             past_seq_len=hp.randint(36, 85),\n",
    "                             future_seq_len=1,\n",
    "                             input_feature_num=1,\n",
    "                             output_target_num=1,\n",
    "                             metric=\"mse\",\n",
    "                             optimizer=\"Adam\",\n",
    "                             loss=torch.nn.MSELoss(),\n",
    "                             logs_dir=\"./tmp/auto_trainer\",\n",
    "                             cpus_per_trial=2,\n",
    "                             name=\"auto_trainer\")"
   ]
  },
  {
   "cell_type": "markdown",
   "metadata": {},
   "source": [
    "We need to split the data frame into train, validation and test data frame before training.\n",
    "\n",
    "Then we impute the data to handle missing data and scale the data.\n",
    "\n",
    "You can use `TSDataset` as an easy way to finish it."
   ]
  },
  {
   "cell_type": "code",
   "execution_count": 15,
   "metadata": {
    "ExecuteTime": {
     "end_time": "2020-04-05T09:44:56.311570Z",
     "start_time": "2020-04-05T09:44:56.298100Z"
    }
   },
   "outputs": [],
   "source": [
    "from zoo.chronos.data import TSDataset\n",
    "from sklearn.preprocessing import StandardScaler\n",
    "\n",
    "tsdata_train, tsdata_val, tsdata_test = TSDataset.from_pandas(df, dt_col=\"StartTime\", target_col=\"AvgRate\", with_split=True, val_ratio=0.1, test_ratio=0.1)\n",
    "standard_scaler = StandardScaler()\n",
    "for tsdata in [tsdata_train, tsdata_val, tsdata_test]:\n",
    "    tsdata.impute(mode=\"last\")\\\n",
    "          .scale(standard_scaler, fit=(tsdata is tsdata_train))"
   ]
  },
  {
   "cell_type": "markdown",
   "metadata": {},
   "source": [
    "Then we fit on train data and validation data. "
   ]
  },
  {
   "cell_type": "code",
   "execution_count": 16,
   "metadata": {
    "ExecuteTime": {
     "end_time": "2020-04-05T09:48:03.575923Z",
     "start_time": "2020-04-05T09:45:31.368537Z"
    },
    "scrolled": true
   },
   "outputs": [
    {
     "data": {
      "text/html": [
       "== Status ==<br>Memory usage on this node: 5.6/15.5 GiB<br>Using FIFO scheduling algorithm.<br>Resources requested: 0/4 CPUs, 0/0 GPUs, 0.0/6.74 GiB heap, 0.0/2.29 GiB objects<br>Current best trial: 957f1_00001 with mse=0.9189377342507385 and parameters={'input_feature_num': 1, 'output_feature_num': 1, 'past_seq_len': 77, 'future_seq_len': 1, 'nhid': 64, 'levels': 4, 'num_channels': None, 'kernel_size': 3, 'lr': 0.0027327672168902467, 'dropout': 0.2538477957884665, 'selected_features': [], 'batch_size': 32}<br>Result logdir: /home/yuyin/analytics-zoo/pyzoo/zoo/chronos/use-case/network_traffic/tmp/auto_trainer/auto_trainer<br>Number of trials: 2/2 (2 TERMINATED)<br><br>"
      ],
      "text/plain": [
       "<IPython.core.display.HTML object>"
      ]
     },
     "metadata": {},
     "output_type": "display_data"
    },
    {
     "name": "stderr",
     "output_type": "stream",
     "text": [
      "2021-07-01 16:45:54,722\tINFO tune.py:450 -- Total run time: 70.19 seconds (70.03 seconds for the tuning loop).\n"
     ]
    },
    {
     "name": "stdout",
     "output_type": "stream",
     "text": [
      "CPU times: user 5.22 s, sys: 938 ms, total: 6.16 s\n",
      "Wall time: 1min 10s\n"
     ]
    }
   ],
   "source": [
    "%%time\n",
    "auto_trainer.fit(data=tsdata_train,\n",
    "                 epochs=1,\n",
    "                 batch_size=hp.choice([32, 64]),\n",
    "                 validation_data=tsdata_val,\n",
    "                 n_sampling=1)"
   ]
  },
  {
   "cell_type": "markdown",
   "metadata": {},
   "source": [
    "We get a `TSPipeline` after training. Let's print the hyper paramters selected.\n",
    "Note that `past_seq_len` is the lookback value that is automatically chosen"
   ]
  },
  {
   "cell_type": "code",
   "execution_count": 17,
   "metadata": {
    "ExecuteTime": {
     "end_time": "2020-04-05T09:48:10.610297Z",
     "start_time": "2020-04-05T09:48:10.607153Z"
    }
   },
   "outputs": [
    {
     "data": {
      "text/plain": [
       "{'input_feature_num': 1,\n",
       " 'output_feature_num': 1,\n",
       " 'past_seq_len': 77,\n",
       " 'future_seq_len': 1,\n",
       " 'nhid': 64,\n",
       " 'levels': 4,\n",
       " 'num_channels': None,\n",
       " 'kernel_size': 3,\n",
       " 'lr': 0.0027327672168902467,\n",
       " 'dropout': 0.2538477957884665,\n",
       " 'selected_features': [],\n",
       " 'batch_size': 32}"
      ]
     },
     "execution_count": 17,
     "metadata": {},
     "output_type": "execute_result"
    }
   ],
   "source": [
    "auto_trainer.get_best_config()"
   ]
  },
  {
   "cell_type": "markdown",
   "metadata": {},
   "source": [
    "You can stop RayOnSpark after auto training."
   ]
  },
  {
   "cell_type": "code",
   "execution_count": 18,
   "metadata": {},
   "outputs": [
    {
     "name": "stdout",
     "output_type": "stream",
     "text": [
      "Stopping orca context\n"
     ]
    }
   ],
   "source": [
    "from zoo.orca import stop_orca_context\n",
    "stop_orca_context()"
   ]
  }
 ],
 "metadata": {
  "kernelspec": {
   "display_name": "Python 3",
   "language": "python",
   "name": "python3"
  },
  "language_info": {
   "codemirror_mode": {
    "name": "ipython",
    "version": 3
   },
   "file_extension": ".py",
   "mimetype": "text/x-python",
   "name": "python",
   "nbconvert_exporter": "python",
   "pygments_lexer": "ipython3",
   "version": "3.6.10"
  },
  "toc": {
   "base_numbering": 1,
   "nav_menu": {},
   "number_sections": true,
   "sideBar": true,
   "skip_h1_title": true,
   "title_cell": "Table of Contents",
   "title_sidebar": "Contents",
   "toc_cell": false,
   "toc_position": {},
   "toc_section_display": true,
   "toc_window_display": false
  }
 },
 "nbformat": 4,
 "nbformat_minor": 2
}
