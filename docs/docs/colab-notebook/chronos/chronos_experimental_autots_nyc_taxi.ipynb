{
 "cells": [
  {
   "cell_type": "markdown",
   "metadata": {
    "colab_type": "text",
    "id": "view-in-github"
   },
   "source": [
    "<a href=\"https://colab.research.google.com/github/intel-analytics/analytics-zoo/blob/master/docs/docs/colab-notebook/chronos/chronos_experimental_autots_nyc_taxi.ipynb\" target=\"_parent\"><img src=\"https://colab.research.google.com/assets/colab-badge.svg\" alt=\"Open In Colab\"/></a>"
   ]
  },
  {
   "cell_type": "markdown",
   "metadata": {
    "id": "xgV_QLGE9Lox"
   },
   "source": [
    "\n",
    "![image.png](data:image/png;base64,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)\n",
    "---"
   ]
  },
  {
   "cell_type": "markdown",
   "metadata": {
    "id": "fDBPZ0_rfBmU"
   },
   "source": [
    "##### Copyright 2018 Analytics Zoo Authors."
   ]
  },
  {
   "cell_type": "code",
   "execution_count": null,
   "metadata": {
    "id": "xBWVU_bhfkY7"
   },
   "outputs": [],
   "source": [
    "#@title Licensed under the Apache License, Version 2.0 (the \"License\");\n",
    "# you may not use this file except in compliance with the License.\n",
    "# You may obtain a copy of the License at\n",
    "#\n",
    "#     http://www.apache.org/licenses/LICENSE-2.0\n",
    "#\n",
    "# Unless required by applicable law or agreed to in writing, software\n",
    "# distributed under the License is distributed on an \"AS IS\" BASIS,\n",
    "# WITHOUT WARRANTIES OR CONDITIONS OF ANY KIND, either express or implied.\n",
    "# See the License for the specific language governing permissions and\n",
    "# limitations under the License.\n",
    "#"
   ]
  },
  {
   "cell_type": "markdown",
   "metadata": {
    "id": "voMBntim9bMf"
   },
   "source": [
    "## **Environment Preparation**"
   ]
  },
  {
   "cell_type": "markdown",
   "metadata": {
    "id": "ccXnsv_pMCHQ"
   },
   "source": [
    "**Install Java 8**\n",
    "\n",
    "Run the cell on the **Google Colab** to install jdk 1.8.\n",
    "\n",
    "**Note:** if you run this notebook on your computer, root permission is required when running the cell to install Java 8. (You may ignore this cell if Java 8 has already been set up in your computer).\n"
   ]
  },
  {
   "cell_type": "code",
   "execution_count": null,
   "metadata": {
    "id": "HWx_0DSnXVhz"
   },
   "outputs": [],
   "source": [
    "# Install jdk8\n",
    "!apt-get install openjdk-8-jdk-headless -qq > /dev/null\n",
    "import os\n",
    "# Set environment variable JAVA_HOME.\n",
    "os.environ[\"JAVA_HOME\"] = \"/usr/lib/jvm/java-8-openjdk-amd64\"\n",
    "!update-alternatives --set java /usr/lib/jvm/java-8-openjdk-amd64/jre/bin/java\n",
    "!java -version"
   ]
  },
  {
   "cell_type": "markdown",
   "metadata": {
    "id": "I_OS4HKJMNpv"
   },
   "source": [
    "**Install Analytics Zoo**\n",
    "\n",
    "You can install the latest pre-release version with automl support using `pip install --pre --upgrade analytics-zoo[automl]`. "
   ]
  },
  {
   "cell_type": "code",
   "execution_count": null,
   "metadata": {
    "id": "3qfT8CaC51hI"
   },
   "outputs": [],
   "source": [
    "# Install latest pre-release version of Analytics Zoo \n",
    "# Installing Analytics Zoo from pip will automatically install pyspark, bigdl, and their dependencies.\n",
    "!pip install --pre --upgrade analytics-zoo[automl]\n",
    "exit() # restart the runtime to refresh installed pkg"
   ]
  },
  {
   "cell_type": "markdown",
   "metadata": {
    "id": "l-l4vel5N3qP"
   },
   "source": [
    "## **Distributed automl for time series forecasting using Chronos Experimental AutoTS**\n",
    "\n",
    "In this guide we will demonstrate how to use Chronos Experimental AutoTS for automated time seires forecasting in 5 simple steps."
   ]
  },
  {
   "cell_type": "markdown",
   "metadata": {
    "id": "TsT-0y8w-6N5"
   },
   "source": [
    "## **Step 0: Prepare dataset**\n",
    "We used NYC taxi passengers dataset in [Numenta Anomaly Benchmark (NAB)](https://github.com/numenta/NAB) for demo, which contains 10320 records, each indicating the total number of taxi passengers in NYC at a corresonponding time spot."
   ]
  },
  {
   "cell_type": "code",
   "execution_count": null,
   "metadata": {
    "id": "devxHuDW-0Mb"
   },
   "outputs": [],
   "source": [
    "# download the dataset\n",
    "!wget https://raw.githubusercontent.com/numenta/NAB/v1.0/data/realKnownCause/nyc_taxi.csv"
   ]
  },
  {
   "cell_type": "code",
   "execution_count": 1,
   "metadata": {
    "id": "LVpFKkCX_3WF"
   },
   "outputs": [],
   "source": [
    "# load the dataset. The downloaded dataframe contains two columns, \"timestamp\" and \"value\".\n",
    "import pandas as pd\n",
    "df = pd.read_csv(\"nyc_taxi.csv\", parse_dates=[\"timestamp\"])"
   ]
  },
  {
   "cell_type": "markdown",
   "metadata": {
    "id": "zBdeoZzLWWlY"
   },
   "source": [
    "### **Step 1: Init Orca Context** "
   ]
  },
  {
   "cell_type": "code",
   "execution_count": 2,
   "metadata": {
    "id": "RDPt2XTsT-Gv"
   },
   "outputs": [],
   "source": [
    "# import necesary libraries and modules\n",
    "from zoo.orca import init_orca_context, stop_orca_context\n",
    "from zoo.orca import OrcaContext"
   ]
  },
  {
   "cell_type": "markdown",
   "metadata": {
    "id": "9VyfhD6HVQpm"
   },
   "source": [
    "This is the only place where you need to specify local or distributed mode. View [Orca Context](https://analytics-zoo.readthedocs.io/en/latest/doc/Orca/Overview/orca-context.html) for more details. Note that argument ```init_ray_on_spark``` must be ```True``` for Chronos."
   ]
  },
  {
   "cell_type": "code",
   "execution_count": 3,
   "metadata": {
    "id": "QAQp0FcUWaH3"
   },
   "outputs": [
    {
     "name": "stdout",
     "output_type": "stream",
     "text": [
      "Initializing orca context\n",
      "Current pyspark location is : /home/yuyin/spark-2.4.3-bin-hadoop2.7/python/lib/pyspark.zip/pyspark/__init__.py\n",
      "Start to getOrCreate SparkContext\n",
      "pyspark_submit_args is:  --driver-class-path /home/yuyin/analytics-zoo/zoo/target/analytics-zoo-bigdl_0.12.2-spark_2.4.3-0.11.0-SNAPSHOT-dist/lib/analytics-zoo-bigdl_0.12.2-spark_2.4.3-0.11.0-SNAPSHOT-jar-with-dependencies.jar pyspark-shell \n",
      "2021-08-06 15:01:38 WARN  Utils:66 - Your hostname, intern04 resolves to a loopback address: 127.0.0.1; using 10.239.44.145 instead (on interface eno1)\n",
      "2021-08-06 15:01:38 WARN  Utils:66 - Set SPARK_LOCAL_IP if you need to bind to another address\n",
      "2021-08-06 15:01:38 WARN  NativeCodeLoader:62 - Unable to load native-hadoop library for your platform... using builtin-java classes where applicable\n"
     ]
    },
    {
     "name": "stderr",
     "output_type": "stream",
     "text": [
      "SLF4J: Class path contains multiple SLF4J bindings.\n",
      "SLF4J: Found binding in [jar:file:/home/yuyin/analytics-zoo/zoo/target/analytics-zoo-bigdl_0.12.2-spark_2.4.3-0.11.0-SNAPSHOT-dist/lib/analytics-zoo-bigdl_0.12.2-spark_2.4.3-0.11.0-SNAPSHOT-jar-with-dependencies.jar!/org/slf4j/impl/StaticLoggerBinder.class]\n",
      "SLF4J: Found binding in [jar:file:/home/yuyin/spark-2.4.3-bin-hadoop2.7/jars/slf4j-log4j12-1.7.16.jar!/org/slf4j/impl/StaticLoggerBinder.class]\n",
      "SLF4J: See http://www.slf4j.org/codes.html#multiple_bindings for an explanation.\n",
      "SLF4J: Actual binding is of type [org.slf4j.impl.Log4jLoggerFactory]\n",
      "Setting default log level to \"WARN\".\n",
      "To adjust logging level use sc.setLogLevel(newLevel). For SparkR, use setLogLevel(newLevel).\n",
      "\n",
      "User settings:\n",
      "\n",
      "   KMP_AFFINITY=granularity=fine,compact,1,0\n",
      "   KMP_BLOCKTIME=0\n",
      "   KMP_SETTINGS=1\n",
      "   OMP_NUM_THREADS=1\n",
      "\n",
      "Effective settings:\n",
      "\n",
      "   KMP_ABORT_DELAY=0\n",
      "   KMP_ADAPTIVE_LOCK_PROPS='1,1024'\n",
      "   KMP_ALIGN_ALLOC=64\n",
      "   KMP_ALL_THREADPRIVATE=128\n",
      "   KMP_ATOMIC_MODE=2\n",
      "   KMP_BLOCKTIME=0\n",
      "   KMP_CPUINFO_FILE: value is not defined\n",
      "   KMP_DETERMINISTIC_REDUCTION=false\n",
      "   KMP_DEVICE_THREAD_LIMIT=2147483647\n",
      "   KMP_DISP_HAND_THREAD=false\n",
      "   KMP_DISP_NUM_BUFFERS=7\n",
      "   KMP_DUPLICATE_LIB_OK=false\n",
      "   KMP_FORCE_REDUCTION: value is not defined\n",
      "   KMP_FOREIGN_THREADS_THREADPRIVATE=true\n",
      "   KMP_FORKJOIN_BARRIER='2,2'\n",
      "   KMP_FORKJOIN_BARRIER_PATTERN='hyper,hyper'\n",
      "   KMP_FORKJOIN_FRAMES=true\n",
      "   KMP_FORKJOIN_FRAMES_MODE=3\n",
      "   KMP_GTID_MODE=3\n",
      "   KMP_HANDLE_SIGNALS=false\n",
      "   KMP_HOT_TEAMS_MAX_LEVEL=1\n",
      "   KMP_HOT_TEAMS_MODE=0\n",
      "   KMP_INIT_AT_FORK=true\n",
      "   KMP_ITT_PREPARE_DELAY=0\n",
      "   KMP_LIBRARY=throughput\n",
      "   KMP_LOCK_KIND=queuing\n",
      "   KMP_MALLOC_POOL_INCR=1M\n",
      "   KMP_MWAIT_HINTS=0\n",
      "   KMP_NUM_LOCKS_IN_BLOCK=1\n",
      "   KMP_PLAIN_BARRIER='2,2'\n",
      "   KMP_PLAIN_BARRIER_PATTERN='hyper,hyper'\n",
      "   KMP_REDUCTION_BARRIER='1,1'\n",
      "   KMP_REDUCTION_BARRIER_PATTERN='hyper,hyper'\n",
      "   KMP_SCHEDULE='static,balanced;guided,iterative'\n",
      "   KMP_SETTINGS=true\n",
      "   KMP_SPIN_BACKOFF_PARAMS='4096,100'\n",
      "   KMP_STACKOFFSET=64\n",
      "   KMP_STACKPAD=0\n",
      "   KMP_STACKSIZE=8M\n",
      "   KMP_STORAGE_MAP=false\n",
      "   KMP_TASKING=2\n",
      "   KMP_TASKLOOP_MIN_TASKS=0\n",
      "   KMP_TASK_STEALING_CONSTRAINT=1\n",
      "   KMP_TEAMS_THREAD_LIMIT=6\n",
      "   KMP_TOPOLOGY_METHOD=all\n",
      "   KMP_USER_LEVEL_MWAIT=false\n",
      "   KMP_USE_YIELD=1\n",
      "   KMP_VERSION=false\n",
      "   KMP_WARNINGS=true\n",
      "   OMP_AFFINITY_FORMAT='OMP: pid %P tid %i thread %n bound to OS proc set {%A}'\n",
      "   OMP_ALLOCATOR=omp_default_mem_alloc\n",
      "   OMP_CANCELLATION=false\n",
      "   OMP_DEBUG=disabled\n",
      "   OMP_DEFAULT_DEVICE=0\n",
      "   OMP_DISPLAY_AFFINITY=false\n",
      "   OMP_DISPLAY_ENV=false\n",
      "   OMP_DYNAMIC=false\n",
      "   OMP_MAX_ACTIVE_LEVELS=2147483647\n",
      "   OMP_MAX_TASK_PRIORITY=0\n",
      "   OMP_NESTED=false\n",
      "   OMP_NUM_THREADS='1'\n",
      "   OMP_PLACES: value is not defined\n",
      "   OMP_PROC_BIND='intel'\n",
      "   OMP_SCHEDULE='static'\n",
      "   OMP_STACKSIZE=8M\n",
      "   OMP_TARGET_OFFLOAD=DEFAULT\n",
      "   OMP_THREAD_LIMIT=2147483647\n",
      "   OMP_TOOL=enabled\n",
      "   OMP_TOOL_LIBRARIES: value is not defined\n",
      "   OMP_WAIT_POLICY=PASSIVE\n",
      "   KMP_AFFINITY='noverbose,warnings,respect,granularity=fine,compact,1,0'\n",
      "\n"
     ]
    },
    {
     "name": "stdout",
     "output_type": "stream",
     "text": [
      "cls.getname: com.intel.analytics.bigdl.python.api.Sample\n",
      "BigDLBasePickler registering: bigdl.util.common  Sample\n",
      "cls.getname: com.intel.analytics.bigdl.python.api.EvaluatedResult\n",
      "BigDLBasePickler registering: bigdl.util.common  EvaluatedResult\n",
      "cls.getname: com.intel.analytics.bigdl.python.api.JTensor\n",
      "BigDLBasePickler registering: bigdl.util.common  JTensor\n",
      "cls.getname: com.intel.analytics.bigdl.python.api.JActivity\n",
      "BigDLBasePickler registering: bigdl.util.common  JActivity\n",
      "Successfully got a SparkContext\n"
     ]
    },
    {
     "name": "stderr",
     "output_type": "stream",
     "text": [
      "2021-08-06 15:01:40,700\tINFO services.py:1174 -- View the Ray dashboard at \u001b[1m\u001b[32mhttp://10.239.44.145:8265\u001b[39m\u001b[22m\n"
     ]
    },
    {
     "name": "stdout",
     "output_type": "stream",
     "text": [
      "{'node_ip_address': '10.239.44.145', 'raylet_ip_address': '10.239.44.145', 'redis_address': '10.239.44.145:62078', 'object_store_address': '/tmp/ray/session_2021-08-06_15-01-40_078727_1786243/sockets/plasma_store', 'raylet_socket_name': '/tmp/ray/session_2021-08-06_15-01-40_078727_1786243/sockets/raylet', 'webui_url': '10.239.44.145:8265', 'session_dir': '/tmp/ray/session_2021-08-06_15-01-40_078727_1786243', 'metrics_export_port': 56245, 'node_id': 'a2ad20f273cb618f5bb667999505fcf965e1d5eee43902bc62110ff3'}\n"
     ]
    },
    {
     "data": {
      "text/html": [
       "\n",
       "        <div>\n",
       "            <p><b>SparkContext</b></p>\n",
       "\n",
       "            <p><a href=\"http://10.239.44.145:4040\">Spark UI</a></p>\n",
       "\n",
       "            <dl>\n",
       "              <dt>Version</dt>\n",
       "                <dd><code>v2.4.3</code></dd>\n",
       "              <dt>Master</dt>\n",
       "                <dd><code>local[4]</code></dd>\n",
       "              <dt>AppName</dt>\n",
       "                <dd><code>pyspark-shell</code></dd>\n",
       "            </dl>\n",
       "        </div>\n",
       "        "
      ],
      "text/plain": [
       "<SparkContext master=local[4] appName=pyspark-shell>"
      ]
     },
     "execution_count": 3,
     "metadata": {},
     "output_type": "execute_result"
    }
   ],
   "source": [
    "# recommended to set it to True when running Analytics Zoo in Jupyter notebook \n",
    "OrcaContext.log_output = True # (this will display terminal's stdout and stderr in the Jupyter notebook).\n",
    "\n",
    "init_orca_context(cluster_mode=\"local\", cores=4, init_ray_on_spark=True)"
   ]
  },
  {
   "cell_type": "markdown",
   "metadata": {},
   "source": [
    "### **Step 2: Data transformation and feature engineering using Chronos TSDataset**\n",
    "[TSDataset](https://analytics-zoo.readthedocs.io/en/latest/doc/PythonAPI/Chronos/tsdataset.html) is our abstract of time series dataset for data transformation and feature engineering. Here we use it to preprocess the data."
   ]
  },
  {
   "cell_type": "code",
   "execution_count": 4,
   "metadata": {},
   "outputs": [],
   "source": [
    "from zoo.chronos.data import TSDataset\n",
    "from sklearn.preprocessing import StandardScaler\n",
    "\n",
    "tsdata_train, tsdata_val, tsdata_test = TSDataset.from_pandas(df, # the dataframe to load\n",
    "                                                              dt_col=\"timestamp\",  # the column name specifying datetime\n",
    "                                                              target_col=\"value\", # the column name to predict\n",
    "                                                              with_split=True, # split the dataset into 3 parts\n",
    "                                                              val_ratio=0.1, # validation set ratio\n",
    "                                                              test_ratio=0.1) # test set ratio\n",
    "\n",
    "# for each tsdataset, we \n",
    "# 1. generate datetime feature columns.\n",
    "# 2. impute the dataset with last occured value.\n",
    "# 3. scale the dataset with standard scaler, fit = true for train data.\n",
    "standard_scaler = StandardScaler()\n",
    "for tsdata in [tsdata_train, tsdata_val, tsdata_test]:\n",
    "    tsdata.gen_dt_feature()\\\n",
    "          .impute(mode=\"last\")\\\n",
    "          .scale(standard_scaler, fit=(tsdata is tsdata_train))"
   ]
  },
  {
   "cell_type": "markdown",
   "metadata": {
    "id": "ld-pV8e-Vb7D"
   },
   "source": [
    "### **Step 3: Create an AutoTSEstimator**\n"
   ]
  },
  {
   "cell_type": "markdown",
   "metadata": {},
   "source": [
    "[AutoTSEstimator](https://analytics-zoo.readthedocs.io/en/latest/doc/PythonAPI/Chronos/autotsestimator.html) is our Automated TimeSeries Estimator for time series forecasting task."
   ]
  },
  {
   "cell_type": "code",
   "execution_count": 5,
   "metadata": {
    "id": "mAMxwh-KBrdt"
   },
   "outputs": [],
   "source": [
    "import zoo.orca.automl.hp as hp\n",
    "from zoo.chronos.autots.experimental import AutoTSEstimator\n",
    "auto_estimator = AutoTSEstimator(model='lstm', # the model name used for training\n",
    "                                 search_space='normal', # a default hyper parameter search space\n",
    "                                 past_seq_len=hp.randint(1, 10)) # hp sampling function of past_seq_len for auto-tuning"
   ]
  },
  {
   "cell_type": "markdown",
   "metadata": {
    "id": "CiTnHATGYn_f"
   },
   "source": [
    "### **Step 4: Fit with AutoTSEstimator**"
   ]
  },
  {
   "cell_type": "code",
   "execution_count": null,
   "metadata": {
    "id": "byQQ_U1fC_11"
   },
   "outputs": [
    {
     "data": {
      "text/html": [
       "== Status ==<br>Memory usage on this node: 13.7/62.7 GiB<br>Using FIFO scheduling algorithm.<br>Resources requested: 4/4 CPUs, 0/0 GPUs, 0.0/30.47 GiB heap, 0.0/10.5 GiB objects<br>Current best trial: 2a853_00001 with mse=0.05731374382372161 and parameters={'hidden_dim': 32, 'layer_num': 1, 'lr': 0.002470165828233964, 'dropout': 0.03360524242432812, 'input_feature_num': None, 'output_feature_num': 1, 'past_seq_len': 1, 'future_seq_len': 1, 'selected_features': ['WEEKOFYEAR', 'DAY'], 'batch_size': 32}<br>Result logdir: /tmp/autots_estimator/autots_estimator<br>Number of trials: 5/6 (1 PENDING, 4 RUNNING)<br><br>"
      ],
      "text/plain": [
       "<IPython.core.display.HTML object>"
      ]
     },
     "metadata": {},
     "output_type": "display_data"
    },
    {
     "name": "stderr",
     "output_type": "stream",
     "text": [
      "Loss: 0.3553391695022583:  74%|███████▍  | 191/258 [00:01<00:00, 79.11it/s] \n",
      "Loss: 0.7548372149467468:  42%|████▏     | 109/258 [00:01<00:02, 56.01it/s] \n",
      "Loss: 0.025103142485022545:  60%|█████▉    | 154/258 [00:01<00:01, 69.57it/s]\n",
      "Loss: 0.32304510474205017:  76%|███████▌  | 196/258 [00:01<00:00, 79.11it/s]\n",
      "Loss: 0.8341794610023499:  44%|████▍     | 113/258 [00:01<00:02, 61.40it/s]\n",
      "Loss: 0.04313332214951515:  61%|██████    | 158/258 [00:01<00:01, 69.57it/s] \n",
      "Loss: 0.0794254019856453:   3%|▎         | 8/258 [00:00<00:01, 188.63it/s]  \n",
      "Loss: 0.23246344923973083:  79%|███████▉  | 205/258 [00:01<00:00, 79.11it/s]\n",
      "Loss: 0.7256333827972412:  45%|████▍     | 116/258 [00:01<00:02, 61.40it/s]\n",
      "Loss: 0.05099906027317047:  64%|██████▎   | 164/258 [00:01<00:01, 69.57it/s] \n",
      "Loss: 0.052389588207006454:   3%|▎         | 9/258 [00:00<00:01, 207.34it/s]\n",
      "Loss: 0.07784407585859299:   8%|▊         | 21/258 [00:00<00:01, 224.45it/s]\n",
      "Loss: 0.22681504487991333:  83%|████████▎ | 214/258 [00:01<00:00, 88.69it/s]\n",
      "Loss: 0.5449363589286804:  47%|████▋     | 122/258 [00:01<00:01, 68.39it/s]\n",
      "Loss: 0.03155964985489845:  66%|██████▋   | 171/258 [00:01<00:01, 75.86it/s] \n",
      "Loss: 0.068352609872818:   9%|▊         | 22/258 [00:00<00:01, 232.70it/s]  \n",
      "Loss: 0.08208590000867844:   9%|▉         | 23/258 [00:00<00:00, 240.71it/s]\n",
      "Loss: 0.054430775344371796:  12%|█▏        | 32/258 [00:00<00:00, 229.12it/s]\n",
      "Loss: 0.326200008392334:  86%|████████▌ | 221/258 [00:01<00:00, 88.69it/s]  \n",
      "Loss: 0.5474698543548584:  50%|████▉     | 128/258 [00:01<00:01, 68.39it/s]\n",
      "Loss: 0.05335693806409836:  70%|██████▉   | 180/258 [00:01<00:01, 75.86it/s] \n",
      "Loss: 0.06291411817073822:  17%|█▋        | 44/258 [00:00<00:00, 229.12it/s] \n",
      "Loss: 0.26759645342826843:  89%|████████▉ | 229/258 [00:01<00:00, 102.57it/s]\n",
      "Loss: 0.8119121789932251:  51%|█████     | 132/258 [00:01<00:01, 73.95it/s]\n",
      "Loss: 0.037443771958351135:  72%|███████▏  | 187/258 [00:01<00:00, 88.76it/s]\n",
      "Loss: 0.03444040194153786:  23%|██▎       | 59/258 [00:00<00:00, 228.00it/s] \n",
      "Loss: 0.20840567350387573:  92%|█████████▏| 238/258 [00:01<00:00, 102.57it/s]\n",
      "Loss: 0.5762253999710083:  53%|█████▎    | 138/258 [00:01<00:01, 73.95it/s]\n",
      "Loss: 0.040724147111177444:  74%|███████▍  | 191/258 [00:01<00:00, 88.76it/s]\n",
      "Loss: 0.2293591946363449:  93%|█████████▎| 239/258 [00:01<00:00, 102.57it/s] \n",
      "Loss: 0.033575501292943954:  29%|██▉       | 76/258 [00:00<00:00, 228.00it/s]\n",
      "Loss: 0.11996015906333923:  95%|█████████▌| 246/258 [00:01<00:00, 102.57it/s]\n",
      "Loss: 0.5530171990394592:  55%|█████▌    | 142/258 [00:01<00:01, 78.78it/s]\n",
      "Loss: 0.021820906549692154:  78%|███████▊  | 200/258 [00:01<00:00, 98.49it/s]\n",
      "Loss: 0.09430418908596039:  32%|███▏      | 82/258 [00:00<00:00, 233.56it/s] \n",
      "Loss: 0.2359810471534729:  99%|█████████▉| 256/258 [00:01<00:00, 116.34it/s] \n",
      "Loss: 0.4579763114452362:  57%|█████▋    | 148/258 [00:01<00:01, 78.78it/s] \n",
      "Loss: 0.02675442025065422:  81%|████████  | 208/258 [00:01<00:00, 98.49it/s] \n",
      "Loss: 0.23479118943214417: 100%|█████████▉| 257/258 [00:01<00:00, 116.34it/s]\n",
      "Loss: 0.08161719143390656:  37%|███▋      | 95/258 [00:00<00:00, 233.56it/s] \n",
      "Loss: 0.23479118943214417: 100%|██████████| 258/258 [00:01<00:00, 145.60it/s]\n",
      "Loss: 0.3740784823894501:  60%|█████▉    | 154/258 [00:01<00:01, 84.96it/s]\n",
      "Loss: 0.0322515070438385:  83%|████████▎ | 214/258 [00:01<00:00, 108.28it/s]  \n",
      "Loss: 0.054788824170827866:  41%|████▏     | 107/258 [00:00<00:00, 233.75it/s]\n",
      "Loss: 0.4201761782169342:  62%|██████▏   | 159/258 [00:01<00:01, 84.96it/s] \n",
      "Loss: 0.2104383409023285:  86%|████████▌ | 222/258 [00:01<00:00, 108.28it/s]  \n",
      "Loss: 0.057767994701862335:  42%|████▏     | 108/258 [00:00<00:00, 233.75it/s]\n",
      "Loss: 0.07039372622966766:  42%|████▏     | 109/258 [00:00<00:00, 233.75it/s] \n",
      "Loss: 0.03275501728057861:  45%|████▌     | 117/258 [00:00<00:00, 233.75it/s] \n",
      "Loss: 0.1799805611371994:   3%|▎         | 7/258 [00:00<00:00, 454.48it/s] \n",
      "Loss: 0.5065921545028687:  64%|██████▎   | 164/258 [00:01<00:01, 86.65it/s]\n",
      "Loss: 0.02522346004843712:  89%|████████▉ | 230/258 [00:01<00:00, 122.78it/s] \n",
      "Loss: 0.058764830231666565:  51%|█████     | 132/258 [00:00<00:00, 238.38it/s]\n",
      "Loss: 0.1466241478919983:   5%|▍         | 12/258 [00:00<00:00, 282.48it/s] \n",
      "Loss: 0.4103959798812866:  66%|██████▌   | 170/258 [00:01<00:01, 86.65it/s] \n",
      "Loss: 0.02703794836997986:  92%|█████████▏| 238/258 [00:01<00:00, 122.78it/s] \n",
      "Loss: 0.10021864622831345:  51%|█████     | 132/258 [00:00<00:00, 238.38it/s] \n",
      "Loss: 0.05425962805747986:  52%|█████▏    | 133/258 [00:00<00:00, 238.38it/s]\n",
      "Loss: 0.04177883267402649:  56%|█████▌    | 145/258 [00:00<00:00, 238.38it/s]\n",
      "Loss: 0.19614441692829132:   9%|▉         | 23/258 [00:00<00:01, 178.81it/s]\n",
      "Loss: 0.4148589074611664:  68%|██████▊   | 175/258 [00:01<00:00, 93.99it/s] \n",
      "Loss: 0.016203148290514946:  95%|█████████▍| 245/258 [00:02<00:00, 123.55it/s]\n",
      "Loss: 0.07391493767499924:  62%|██████▏   | 159/258 [00:00<00:00, 238.38it/s] \n",
      "Loss: 0.42280465364456177:  13%|█▎        | 33/258 [00:00<00:01, 178.81it/s]\n",
      "Loss: 0.4522884488105774:  69%|██████▉   | 178/258 [00:02<00:00, 93.99it/s] \n",
      "Loss: 0.016864273697137833:  98%|█████████▊| 254/258 [00:02<00:00, 123.55it/s]\n",
      "Loss: 0.0747213214635849:  67%|██████▋   | 172/258 [00:00<00:00, 239.25it/s]  \n",
      "Loss: 0.16032502055168152:  16%|█▋        | 42/258 [00:00<00:01, 189.01it/s]\n",
      "Loss: 0.5347674489021301:  71%|███████   | 183/258 [00:02<00:00, 93.99it/s] \n",
      "Loss: 0.043140631169080734: 100%|██████████| 258/258 [00:02<00:00, 122.16it/s]\n",
      "Loss: 0.06431131064891815:  73%|███████▎  | 188/258 [00:00<00:00, 239.25it/s] \n",
      "Loss: 0.1793920248746872:  20%|██        | 52/258 [00:00<00:01, 189.01it/s] \n",
      "Loss: 0.49418044090270996:  73%|███████▎  | 188/258 [00:02<00:00, 94.01it/s]\n",
      "Loss: 0.06105339527130127:  76%|███████▌  | 196/258 [00:00<00:00, 248.87it/s] \n",
      "Loss: 0.21112635731697083:  23%|██▎       | 60/258 [00:00<00:01, 189.01it/s]\n",
      "Loss: 0.30149275064468384:  76%|███████▌  | 195/258 [00:02<00:00, 94.01it/s]\n",
      "Loss: 0.053128570318222046:  82%|████████▏ | 212/258 [00:00<00:00, 248.87it/s]\n",
      "Loss: 0.1383512318134308:  27%|██▋       | 70/258 [00:00<00:01, 181.48it/s] \n",
      "Loss: 0.565893292427063:  78%|███████▊  | 200/258 [00:02<00:00, 96.78it/s]  \n",
      "Loss: 0.024808885529637337:   2%|▏         | 4/258 [00:00<00:00, 468.60it/s]\n",
      "Loss: 0.07035110145807266:  88%|████████▊ | 226/258 [00:00<00:00, 251.83it/s] \n",
      "Loss: 0.2787187397480011:  30%|██▉       | 77/258 [00:00<00:00, 181.48it/s] \n",
      "Loss: 0.2963942885398865:  79%|███████▉  | 205/258 [00:02<00:00, 96.78it/s] \n",
      "Loss: 0.02759533002972603:   5%|▌         | 13/258 [00:00<00:01, 183.16it/s]\n",
      "Loss: 0.0797276720404625:  93%|█████████▎| 239/258 [00:00<00:00, 251.83it/s]  \n",
      "Loss: 0.21878060698509216:  34%|███▎      | 87/258 [00:00<00:01, 169.91it/s]\n",
      "Loss: 0.4234127402305603:  81%|████████  | 209/258 [00:02<00:00, 97.67it/s] \n",
      "Loss: 0.029728632420301437:   9%|▊         | 22/258 [00:00<00:01, 166.37it/s]\n",
      "Loss: 0.05238763615489006:  97%|█████████▋| 249/258 [00:01<00:00, 241.19it/s] \n",
      "Loss: 0.19916987419128418:  36%|███▋      | 94/258 [00:00<00:00, 169.91it/s]\n",
      "Loss: 0.4783756136894226:  83%|████████▎ | 215/258 [00:02<00:00, 97.67it/s] \n",
      "Loss: 0.040211133658885956:  12%|█▏        | 30/258 [00:00<00:01, 166.37it/s]\n",
      "Loss: 0.03325431048870087:  97%|█████████▋| 250/258 [00:01<00:00, 241.19it/s]\n",
      "Loss: 0.05102849006652832: 100%|██████████| 258/258 [00:01<00:00, 243.58it/s] \n",
      "Loss: 0.12320861220359802:  41%|████      | 105/258 [00:00<00:00, 177.34it/s]\n",
      "Loss: 0.4968845844268799:  86%|████████▌ | 222/258 [00:02<00:00, 96.13it/s] \n",
      "Loss: 0.03166123479604721:  14%|█▎        | 35/258 [00:00<00:01, 166.37it/s] \n",
      "Loss: 0.026930203661322594:  14%|█▍        | 37/258 [00:00<00:01, 161.01it/s]\n",
      "Loss: 0.15060190856456757:  46%|████▌     | 118/258 [00:00<00:00, 177.34it/s]\n",
      "Loss: 0.3641139566898346:  87%|████████▋ | 225/258 [00:02<00:00, 96.13it/s] \n",
      "Loss: 0.022900106385350227:  16%|█▋        | 42/258 [00:00<00:01, 161.01it/s]\n",
      "Loss: 0.025121817365288734:   2%|▏         | 4/258 [00:00<00:00, 747.98it/s]\n",
      "Loss: 0.19060592353343964:  48%|████▊     | 125/258 [00:00<00:00, 177.45it/s]\n",
      "Loss: 0.2976243197917938:  90%|████████▉ | 232/258 [00:02<00:00, 96.13it/s] \n",
      "Loss: 0.028386089950799942:  20%|█▉        | 51/258 [00:00<00:01, 161.01it/s]\n",
      "Loss: 0.054440807551145554:   2%|▏         | 5/258 [00:00<00:00, 792.16it/s]\n",
      "Loss: 0.041861504316329956:   2%|▏         | 6/258 [00:00<00:00, 824.06it/s]\n",
      "Loss: 0.051058486104011536:   8%|▊         | 21/258 [00:00<00:00, 412.08it/s]\n",
      "Loss: 0.15014761686325073:  52%|█████▏    | 134/258 [00:00<00:00, 177.45it/s]\n",
      "Loss: 0.3619843125343323:  91%|█████████ | 235/258 [00:02<00:00, 100.18it/s] \n",
      "Loss: 0.02285221964120865:  23%|██▎       | 59/258 [00:00<00:01, 156.56it/s] \n",
      "Loss: 0.04665612429380417:  12%|█▏        | 31/258 [00:00<00:00, 295.70it/s] \n",
      "Loss: 0.14888568222522736:  56%|█████▌    | 144/258 [00:00<00:00, 176.47it/s]\n",
      "Loss: 0.4109160304069519:  94%|█████████▍| 242/258 [00:02<00:00, 100.18it/s] \n",
      "Loss: 0.015950743108987808:  26%|██▌       | 66/258 [00:00<00:01, 156.56it/s]\n",
      "Loss: 0.31477296352386475:  94%|█████████▍| 243/258 [00:02<00:00, 100.18it/s]\n"
     ]
    },
    {
     "name": "stderr",
     "output_type": "stream",
     "text": [
      "Loss: 0.07119244337081909:  17%|█▋        | 44/258 [00:00<00:00, 295.70it/s] \n",
      "Loss: 0.2147170901298523:  59%|█████▉    | 153/258 [00:00<00:00, 176.47it/s] \n",
      "Loss: 0.4674866795539856:  96%|█████████▌| 247/258 [00:02<00:00, 98.86it/s]  \n",
      "Loss: 0.025060154497623444:  29%|██▊       | 74/258 [00:00<00:01, 151.02it/s]\n",
      "Loss: 0.062098488211631775:  22%|██▏       | 58/258 [00:00<00:00, 295.70it/s]\n",
      "Loss: 0.10033626109361649:  62%|██████▏   | 160/258 [00:00<00:00, 176.47it/s]\n",
      "Loss: 0.511121928691864:  98%|█████████▊| 252/258 [00:02<00:00, 98.86it/s]  \n",
      "Loss: 0.029234793037176132:  32%|███▏      | 82/258 [00:00<00:01, 151.02it/s]\n",
      "Loss: 0.05484694987535477:  27%|██▋       | 70/258 [00:00<00:00, 283.99it/s] \n",
      "Loss: 0.16086101531982422:  66%|██████▋   | 171/258 [00:00<00:00, 175.18it/s]\n",
      "Loss: 0.47226327657699585:  99%|█████████▉| 256/258 [00:02<00:00, 100.01it/s]\n",
      "Loss: 0.01940670795738697:  34%|███▍      | 89/258 [00:00<00:01, 148.77it/s] \n",
      "Loss: 0.06020822376012802:  28%|██▊       | 71/258 [00:00<00:00, 283.99it/s]\n",
      "Loss: 0.0694449245929718:  31%|███▏      | 81/258 [00:00<00:00, 283.99it/s] \n",
      "Loss: 0.1475253701210022:  70%|██████▉   | 180/258 [00:00<00:00, 175.18it/s] \n",
      "Loss: 0.43704742193222046: 100%|██████████| 258/258 [00:02<00:00, 91.23it/s] \n",
      "Loss: 0.018360625952482224:  38%|███▊      | 99/258 [00:00<00:01, 148.77it/s]\n",
      "Loss: 0.08133365213871002:  38%|███▊      | 97/258 [00:00<00:00, 258.14it/s] \n",
      "Loss: 0.06668173521757126:  73%|███████▎  | 188/258 [00:01<00:00, 183.62it/s]\n",
      "Loss: 0.011647740378975868:  41%|████      | 106/258 [00:00<00:01, 149.34it/s]\n",
      "Loss: 0.053146857768297195:  44%|████▍     | 113/258 [00:00<00:00, 258.14it/s]\n",
      "Loss: 0.09398714452981949:  76%|███████▌  | 195/258 [00:01<00:00, 183.62it/s]\n",
      "Loss: 0.04313412681221962:  43%|████▎     | 112/258 [00:00<00:00, 149.34it/s] \n",
      "Loss: 0.028074808418750763:  44%|████▍     | 113/258 [00:00<00:00, 149.34it/s]\n",
      "Loss: 0.03743358328938484:  47%|████▋     | 121/258 [00:00<00:00, 263.07it/s] \n",
      "Loss: 0.08450707793235779:  79%|███████▉  | 204/258 [00:01<00:00, 182.30it/s]\n",
      "Loss: 0.40881583094596863:   2%|▏         | 6/258 [00:00<00:01, 157.16it/s]\n",
      "Loss: 0.02107238583266735:  47%|████▋     | 120/258 [00:00<00:00, 148.25it/s] \n",
      "Loss: 0.03921910375356674:  53%|█████▎    | 136/258 [00:00<00:00, 263.07it/s] \n",
      "Loss: 0.09791386127471924:  84%|████████▎ | 216/258 [00:01<00:00, 182.30it/s]\n",
      "Loss: 0.38038569688796997:   4%|▍         | 10/258 [00:00<00:01, 147.87it/s]\n",
      "Loss: 0.013690640218555927:  49%|████▉     | 126/258 [00:00<00:00, 148.25it/s]\n",
      "Loss: 0.056599151343107224:  53%|█████▎    | 137/258 [00:00<00:00, 263.07it/s]\n",
      "Loss: 0.0747242122888565:  59%|█████▊    | 151/258 [00:00<00:00, 267.89it/s]  \n",
      "Loss: 0.10356377065181732:  87%|████████▋ | 224/258 [00:01<00:00, 168.73it/s]\n",
      "Loss: 0.28213268518447876:   5%|▌         | 14/258 [00:00<00:01, 124.49it/s]\n",
      "Loss: 0.035339877009391785:  52%|█████▏    | 134/258 [00:00<00:00, 148.25it/s]\n",
      "Loss: 0.36579999327659607:   6%|▌         | 15/258 [00:00<00:01, 124.49it/s]\n",
      "Loss: 0.06178430840373039:  61%|██████    | 158/258 [00:00<00:00, 267.89it/s] \n",
      "Loss: 0.07083240151405334:  91%|█████████ | 234/258 [00:01<00:00, 168.73it/s]\n",
      "Loss: 0.5623968839645386:   8%|▊         | 20/258 [00:00<00:01, 124.49it/s] \n",
      "Loss: 0.030349863693118095:  55%|█████▌    | 143/258 [00:00<00:00, 148.87it/s]\n",
      "Loss: 0.05611567199230194:  67%|██████▋   | 174/258 [00:00<00:00, 249.83it/s] \n",
      "Loss: 0.09959188848733902:  95%|█████████▍| 244/258 [00:01<00:00, 175.42it/s]\n",
      "Loss: 0.357094407081604:  10%|█         | 26/258 [00:00<00:02, 113.14it/s]  \n",
      "Loss: 0.022308047860860825:  58%|█████▊    | 149/258 [00:01<00:00, 148.87it/s]\n",
      "Loss: 0.08166124671697617:  71%|███████▏  | 184/258 [00:00<00:00, 249.83it/s] \n",
      "Loss: 0.11334310472011566:  97%|█████████▋| 251/258 [00:01<00:00, 175.42it/s]\n",
      "Loss: 0.35846924781799316:  12%|█▏        | 32/258 [00:00<00:01, 113.14it/s]\n",
      "Loss: 0.33556997776031494:  61%|██████    | 157/258 [00:01<00:00, 154.56it/s] \n",
      "Loss: 0.08293571323156357:  72%|███████▏  | 185/258 [00:00<00:00, 249.83it/s]\n",
      "Loss: 0.04299848526716232:  76%|███████▋  | 197/258 [00:00<00:00, 249.93it/s] \n",
      "Loss: 0.09052527695894241: 100%|██████████| 258/258 [00:01<00:00, 178.02it/s]\n",
      "Loss: 0.3531705141067505:  15%|█▍        | 38/258 [00:00<00:01, 111.81it/s] \n",
      "Loss: 0.03356562554836273:  64%|██████▎   | 164/258 [00:01<00:00, 154.56it/s] \n",
      "Loss: 0.051583822816610336:  82%|████████▏ | 212/258 [00:00<00:00, 249.93it/s]\n",
      "Loss: 0.4495977759361267:  16%|█▌        | 41/258 [00:00<00:01, 111.81it/s] \n",
      "Loss: 0.020677104592323303:  67%|██████▋   | 172/258 [00:01<00:00, 148.46it/s]\n",
      "Loss: 0.10309791564941406:  83%|████████▎ | 213/258 [00:00<00:00, 249.93it/s] \n",
      "Loss: 0.08199220895767212:  88%|████████▊ | 228/258 [00:00<00:00, 249.22it/s] \n",
      "  0%|          | 0/258 [00:00<?, ?it/s]\n",
      "Loss: 0.32513731718063354:  18%|█▊        | 47/258 [00:00<00:01, 111.81it/s]\n",
      "Loss: 0.01989990472793579:  69%|██████▉   | 179/258 [00:01<00:00, 148.46it/s] \n",
      "Loss: 0.10804461687803268:   0%|          | 0/258 [00:00<?, ?it/s]\n",
      "Loss: 0.08128255605697632:  91%|█████████ | 235/258 [00:00<00:00, 249.22it/s]\n",
      "Loss: 0.1315581351518631:   4%|▍         | 10/258 [00:00<00:00, 286.14it/s]\n",
      "Loss: 0.4093347489833832:  21%|██        | 53/258 [00:00<00:01, 106.11it/s] \n",
      "Loss: 0.02912101522088051:  73%|███████▎  | 188/258 [00:01<00:00, 147.32it/s] \n",
      "Loss: 0.05046642944216728:  97%|█████████▋| 250/258 [00:00<00:00, 238.53it/s] \n",
      "Loss: 0.06875147670507431:   8%|▊         | 21/258 [00:00<00:00, 253.42it/s] \n",
      "Loss: 0.3910892605781555:  22%|██▏       | 57/258 [00:00<00:01, 106.11it/s] \n",
      "Loss: 0.010216926224529743:  76%|███████▌  | 195/258 [00:01<00:00, 147.32it/s]\n",
      "Loss: 0.06495728343725204: 100%|██████████| 258/258 [00:01<00:00, 252.92it/s]\n",
      "Loss: 0.0695551261305809:  12%|█▏        | 30/258 [00:00<00:01, 204.39it/s] \n",
      "Loss: 0.3009302020072937:  24%|██▍       | 62/258 [00:00<00:01, 106.87it/s] \n",
      "Loss: 0.019487649202346802:  78%|███████▊  | 202/258 [00:01<00:00, 145.24it/s]\n",
      "Loss: 0.07026942074298859:  16%|█▌        | 41/258 [00:00<00:01, 204.39it/s] \n",
      "Loss: 0.21238087117671967:  26%|██▌       | 67/258 [00:00<00:01, 106.87it/s]\n",
      "Loss: 0.03043948858976364:  81%|████████▏ | 210/258 [00:01<00:00, 145.24it/s] \n",
      "Loss: 0.09514081478118896:   3%|▎         | 9/258 [00:00<00:00, 342.69it/s] \n",
      "Loss: 0.07219983637332916:  18%|█▊        | 46/258 [00:00<00:01, 195.75it/s]\n",
      "Loss: 0.496174156665802:  29%|██▊       | 74/258 [00:00<00:01, 102.64it/s]  \n",
      "Loss: 0.012274842709302902:  84%|████████▍ | 217/258 [00:01<00:00, 142.02it/s]\n",
      "Loss: 0.08105354756116867:   4%|▍         | 10/258 [00:00<00:00, 367.51it/s]\n",
      "Loss: 0.05581307411193848:   4%|▍         | 11/258 [00:00<00:00, 389.93it/s]\n",
      "Loss: 0.04875866323709488:   8%|▊         | 20/258 [00:00<00:00, 360.91it/s] \n",
      "Loss: 0.059642866253852844:  23%|██▎       | 60/258 [00:00<00:01, 195.75it/s]\n",
      "Loss: 0.302022784948349:  31%|███       | 79/258 [00:00<00:01, 102.64it/s]  \n",
      "Loss: 0.014579981565475464:  86%|████████▌ | 222/258 [00:01<00:00, 142.02it/s]\n",
      "Loss: 0.0661080926656723:  13%|█▎        | 34/258 [00:00<00:00, 257.11it/s]  \n",
      "Loss: 0.054099999368190765:  26%|██▋       | 68/258 [00:00<00:00, 191.82it/s]\n",
      "Loss: 0.33440136909484863:  32%|███▏      | 82/258 [00:00<00:01, 102.64it/s]\n",
      "Loss: 0.032446086406707764:  90%|█████████ | 233/258 [00:01<00:00, 146.02it/s]\n",
      "Loss: 0.08239205926656723:  19%|█▉        | 49/258 [00:00<00:00, 257.11it/s] \n",
      "Loss: 0.07349326461553574:  28%|██▊       | 72/258 [00:00<00:00, 191.82it/s] \n",
      "Loss: 0.2593027353286743:  34%|███▍      | 89/258 [00:00<00:01, 101.72it/s] \n",
      "Loss: 0.02263784036040306:  93%|█████████▎| 240/258 [00:01<00:00, 146.02it/s] \n",
      "Loss: 0.03394007310271263:  28%|██▊       | 73/258 [00:00<00:00, 191.82it/s]\n",
      "Loss: 0.09210772067308426:  25%|██▍       | 64/258 [00:00<00:00, 255.59it/s] \n",
      "Loss: 0.0677417740225792:  32%|███▏      | 82/258 [00:00<00:00, 177.44it/s] \n",
      "Loss: 0.2248561829328537:  36%|███▌      | 93/258 [00:00<00:01, 101.72it/s] \n",
      "Loss: 0.029134180396795273:  97%|█████████▋| 249/258 [00:01<00:00, 147.57it/s]\n",
      "Loss: 0.08359472453594208:  29%|██▉       | 75/258 [00:00<00:00, 255.59it/s]\n",
      "Loss: 0.029008774086833:  37%|███▋      | 95/258 [00:00<00:00, 177.44it/s]   \n",
      "Loss: 0.2515876293182373:  38%|███▊      | 98/258 [00:00<00:01, 106.21it/s] \n",
      "Loss: 0.0330389104783535:  98%|█████████▊| 254/258 [00:01<00:00, 147.57it/s]  \n"
     ]
    }
   ],
   "source": [
    "# fit with AutoTSEstimator for a returned TSPipeline\n",
    "ts_pipeline = auto_estimator.fit(data=tsdata_train, # train dataset\n",
    "                                 validation_data=tsdata_val, # validation dataset\n",
    "                                 epochs=5) # number of epochs to train in each trial"
   ]
  },
  {
   "cell_type": "markdown",
   "metadata": {
    "id": "6kEZlexfMm0z"
   },
   "source": [
    "### **Step 5: Further deployment with TSPipeline**"
   ]
  },
  {
   "cell_type": "markdown",
   "metadata": {},
   "source": [
    "[TSPipeline](https://analytics-zoo.readthedocs.io/en/latest/doc/PythonAPI/Chronos/autotsestimator.html#tspipeline-experimental) is our E2E solution for time series forecasting task."
   ]
  },
  {
   "cell_type": "code",
   "execution_count": null,
   "metadata": {
    "id": "6bhoBcE1Mbn6"
   },
   "outputs": [],
   "source": [
    "# predict with the best trial\n",
    "y_pred = ts_pipeline.predict(tsdata_test)"
   ]
  },
  {
   "cell_type": "code",
   "execution_count": null,
   "metadata": {
    "id": "IHVZKesINPTW"
   },
   "outputs": [],
   "source": [
    "# evaluate the result pipeline\n",
    "mse, smape = ts_pipeline.evaluate(tsdata_test, metrics=[\"mse\", \"smape\"])\n",
    "print(\"Evaluate: the mean square error is\", mse)\n",
    "print(\"Evaluate: the smape value is\", smape)"
   ]
  },
  {
   "cell_type": "code",
   "execution_count": null,
   "metadata": {},
   "outputs": [],
   "source": [
    "# plot the result\n",
    "import matplotlib.pyplot as plt\n",
    "\n",
    "lookback = auto_estimator.get_best_config()['past_seq_len']\n",
    "groundtruth_unscale = tsdata_test.unscale().to_pandas()[lookback - 1:]\n",
    "\n",
    "plt.figure(figsize=(16,6))\n",
    "plt.plot(groundtruth_unscale[\"timestamp\"], y_pred[:,0,0])\n",
    "plt.plot(groundtruth_unscale[\"timestamp\"], groundtruth_unscale[\"value\"])\n",
    "plt.legend([\"prediction\", \"ground truth\"])"
   ]
  },
  {
   "cell_type": "code",
   "execution_count": null,
   "metadata": {
    "id": "fV7yWUlHNh0D"
   },
   "outputs": [],
   "source": [
    "# save the pipeline\n",
    "my_ppl_file_path = \"/tmp/saved_pipeline\"\n",
    "ts_pipeline.save(my_ppl_file_path)"
   ]
  },
  {
   "cell_type": "code",
   "execution_count": null,
   "metadata": {
    "id": "4rnB5UYVNuSN"
   },
   "outputs": [],
   "source": [
    "# restore the pipeline for further deployment\n",
    "from zoo.chronos.autots.experimental import TSPipeline\n",
    "loaded_ppl = TSPipeline.load(my_ppl_file_path)"
   ]
  },
  {
   "cell_type": "code",
   "execution_count": null,
   "metadata": {
    "id": "nC4KhlHxXakk"
   },
   "outputs": [],
   "source": [
    "# Stop orca context when your program finishes\n",
    "stop_orca_context()"
   ]
  },
  {
   "cell_type": "code",
   "execution_count": null,
   "metadata": {},
   "outputs": [],
   "source": [
    "# show a tensorboard view\n",
    "%load_ext tensorboard\n",
    "%tensorboard --logdir /tmp/autots_estimator/autots_estimator_leaderboard/"
   ]
  },
  {
   "cell_type": "code",
   "execution_count": null,
   "metadata": {},
   "outputs": [],
   "source": []
  }
 ],
 "metadata": {
  "colab": {
   "collapsed_sections": [],
   "include_colab_link": true,
   "name": "chronos_experimental_autots_nyc_taxi.ipynb",
   "provenance": []
  },
  "kernelspec": {
   "display_name": "Python 3",
   "language": "python",
   "name": "python3"
  },
  "language_info": {
   "codemirror_mode": {
    "name": "ipython",
    "version": 3
   },
   "file_extension": ".py",
   "mimetype": "text/x-python",
   "name": "python",
   "nbconvert_exporter": "python",
   "pygments_lexer": "ipython3",
   "version": "3.6.10"
  }
 },
 "nbformat": 4,
 "nbformat_minor": 1
}
